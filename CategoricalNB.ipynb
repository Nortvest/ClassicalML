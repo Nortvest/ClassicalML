{
 "cells": [
  {
   "cell_type": "code",
   "execution_count": 106,
   "id": "2c45c888",
   "metadata": {},
   "outputs": [],
   "source": [
    "import numpy as np\n",
    "import pandas as pd\n",
    "from sklearn.model_selection import train_test_split\n",
    "from sklearn.metrics import accuracy_score\n",
    "from sklearn.model_selection import RepeatedStratifiedKFold\n",
    "import matplotlib.pyplot as plt\n",
    "import seaborn as sns\n",
    "\n",
    "from sklearn.naive_bayes import CategoricalNB, GaussianNB\n",
    "import warnings\n",
    "import time\n",
    "warnings.filterwarnings('ignore')"
   ]
  },
  {
   "cell_type": "markdown",
   "id": "57f0c92f",
   "metadata": {},
   "source": [
    "### Загрузка датасета и вывод инфориации о нем"
   ]
  },
  {
   "cell_type": "code",
   "execution_count": 58,
   "id": "ae6be773",
   "metadata": {},
   "outputs": [],
   "source": [
    "df = pd.read_csv('categ.csv').drop('Unnamed: 0', axis=1)"
   ]
  },
  {
   "cell_type": "code",
   "execution_count": 4,
   "id": "daf8eef7",
   "metadata": {},
   "outputs": [
    {
     "data": {
      "text/html": [
       "<div>\n",
       "<style scoped>\n",
       "    .dataframe tbody tr th:only-of-type {\n",
       "        vertical-align: middle;\n",
       "    }\n",
       "\n",
       "    .dataframe tbody tr th {\n",
       "        vertical-align: top;\n",
       "    }\n",
       "\n",
       "    .dataframe thead th {\n",
       "        text-align: right;\n",
       "    }\n",
       "</style>\n",
       "<table border=\"1\" class=\"dataframe\">\n",
       "  <thead>\n",
       "    <tr style=\"text-align: right;\">\n",
       "      <th></th>\n",
       "      <th>размер</th>\n",
       "      <th>ткань</th>\n",
       "      <th>цвет</th>\n",
       "      <th>рукав</th>\n",
       "      <th>спрос</th>\n",
       "    </tr>\n",
       "  </thead>\n",
       "  <tbody>\n",
       "    <tr>\n",
       "      <th>0</th>\n",
       "      <td>S</td>\n",
       "      <td>нейлон</td>\n",
       "      <td>белый</td>\n",
       "      <td>длинный</td>\n",
       "      <td>средний</td>\n",
       "    </tr>\n",
       "    <tr>\n",
       "      <th>1</th>\n",
       "      <td>XL</td>\n",
       "      <td>полиэстр</td>\n",
       "      <td>кремовый</td>\n",
       "      <td>короткий</td>\n",
       "      <td>высокий</td>\n",
       "    </tr>\n",
       "    <tr>\n",
       "      <th>2</th>\n",
       "      <td>S</td>\n",
       "      <td>шёлк</td>\n",
       "      <td>голубой</td>\n",
       "      <td>короткий</td>\n",
       "      <td>средний</td>\n",
       "    </tr>\n",
       "    <tr>\n",
       "      <th>3</th>\n",
       "      <td>M</td>\n",
       "      <td>хлопок</td>\n",
       "      <td>чёрный</td>\n",
       "      <td>короткий</td>\n",
       "      <td>средний</td>\n",
       "    </tr>\n",
       "    <tr>\n",
       "      <th>4</th>\n",
       "      <td>XL</td>\n",
       "      <td>полиэстр</td>\n",
       "      <td>оранжевый</td>\n",
       "      <td>длинный</td>\n",
       "      <td>средний</td>\n",
       "    </tr>\n",
       "    <tr>\n",
       "      <th>...</th>\n",
       "      <td>...</td>\n",
       "      <td>...</td>\n",
       "      <td>...</td>\n",
       "      <td>...</td>\n",
       "      <td>...</td>\n",
       "    </tr>\n",
       "    <tr>\n",
       "      <th>9995</th>\n",
       "      <td>M</td>\n",
       "      <td>нейлон</td>\n",
       "      <td>чёрный</td>\n",
       "      <td>длинный</td>\n",
       "      <td>средний</td>\n",
       "    </tr>\n",
       "    <tr>\n",
       "      <th>9996</th>\n",
       "      <td>L</td>\n",
       "      <td>хлопок</td>\n",
       "      <td>белый</td>\n",
       "      <td>длинный</td>\n",
       "      <td>высокий</td>\n",
       "    </tr>\n",
       "    <tr>\n",
       "      <th>9997</th>\n",
       "      <td>XXL</td>\n",
       "      <td>нейлон</td>\n",
       "      <td>чёрный</td>\n",
       "      <td>длинный</td>\n",
       "      <td>средний</td>\n",
       "    </tr>\n",
       "    <tr>\n",
       "      <th>9998</th>\n",
       "      <td>S</td>\n",
       "      <td>лён</td>\n",
       "      <td>белый</td>\n",
       "      <td>длинный</td>\n",
       "      <td>высокий</td>\n",
       "    </tr>\n",
       "    <tr>\n",
       "      <th>9999</th>\n",
       "      <td>S</td>\n",
       "      <td>хлопок</td>\n",
       "      <td>красный</td>\n",
       "      <td>длинный</td>\n",
       "      <td>высокий</td>\n",
       "    </tr>\n",
       "  </tbody>\n",
       "</table>\n",
       "<p>10000 rows × 5 columns</p>\n",
       "</div>"
      ],
      "text/plain": [
       "     размер     ткань       цвет     рукав    спрос\n",
       "0         S    нейлон      белый   длинный  средний\n",
       "1        XL  полиэстр   кремовый  короткий  высокий\n",
       "2         S      шёлк    голубой  короткий  средний\n",
       "3         M    хлопок     чёрный  короткий  средний\n",
       "4        XL  полиэстр  оранжевый   длинный  средний\n",
       "...     ...       ...        ...       ...      ...\n",
       "9995      M    нейлон     чёрный   длинный  средний\n",
       "9996      L    хлопок      белый   длинный  высокий\n",
       "9997    XXL    нейлон     чёрный   длинный  средний\n",
       "9998      S       лён      белый   длинный  высокий\n",
       "9999      S    хлопок    красный   длинный  высокий\n",
       "\n",
       "[10000 rows x 5 columns]"
      ]
     },
     "execution_count": 4,
     "metadata": {},
     "output_type": "execute_result"
    }
   ],
   "source": [
    "df"
   ]
  },
  {
   "cell_type": "code",
   "execution_count": 5,
   "id": "4d900f3a",
   "metadata": {
    "scrolled": true
   },
   "outputs": [
    {
     "data": {
      "image/png": "[encoded data removed]",
      "text/plain": [
       "<Figure size 432x288 with 1 Axes>"
      ]
     },
     "metadata": {
      "needs_background": "light"
     },
     "output_type": "display_data"
    },
    {
     "data": {
      "image/png": "[encoded data removed]",
      "text/plain": [
       "<Figure size 432x288 with 1 Axes>"
      ]
     },
     "metadata": {
      "needs_background": "light"
     },
     "output_type": "display_data"
    },
    {
     "data": {
      "image/png": "[encoded data removed]",
      "text/plain": [
       "<Figure size 432x288 with 1 Axes>"
      ]
     },
     "metadata": {
      "needs_background": "light"
     },
     "output_type": "display_data"
    },
    {
     "data": {
      "image/png": "[encoded data removed]",
      "text/plain": [
       "<Figure size 432x288 with 1 Axes>"
      ]
     },
     "metadata": {
      "needs_background": "light"
     },
     "output_type": "display_data"
    },
    {
     "data": {
      "image/png": "[encoded data removed]",
      "text/plain": [
       "<Figure size 432x288 with 1 Axes>"
      ]
     },
     "metadata": {
      "needs_background": "light"
     },
     "output_type": "display_data"
    }
   ],
   "source": [
    "for col in df.columns:\n",
    "    sns.histplot(df[col])\n",
    "    plt.xticks(rotation=45)\n",
    "    plt.show()"
   ]
  },
  {
   "cell_type": "code",
   "execution_count": 6,
   "id": "623bd829",
   "metadata": {},
   "outputs": [
    {
     "data": {
      "text/html": [
       "<div>\n",
       "<style scoped>\n",
       "    .dataframe tbody tr th:only-of-type {\n",
       "        vertical-align: middle;\n",
       "    }\n",
       "\n",
       "    .dataframe tbody tr th {\n",
       "        vertical-align: top;\n",
       "    }\n",
       "\n",
       "    .dataframe thead th {\n",
       "        text-align: right;\n",
       "    }\n",
       "</style>\n",
       "<table border=\"1\" class=\"dataframe\">\n",
       "  <thead>\n",
       "    <tr style=\"text-align: right;\">\n",
       "      <th></th>\n",
       "      <th>count</th>\n",
       "      <th>unique</th>\n",
       "      <th>top</th>\n",
       "      <th>freq</th>\n",
       "    </tr>\n",
       "  </thead>\n",
       "  <tbody>\n",
       "    <tr>\n",
       "      <th>размер</th>\n",
       "      <td>10000</td>\n",
       "      <td>7</td>\n",
       "      <td>L</td>\n",
       "      <td>2231</td>\n",
       "    </tr>\n",
       "    <tr>\n",
       "      <th>ткань</th>\n",
       "      <td>10000</td>\n",
       "      <td>5</td>\n",
       "      <td>полиэстр</td>\n",
       "      <td>2840</td>\n",
       "    </tr>\n",
       "    <tr>\n",
       "      <th>цвет</th>\n",
       "      <td>10000</td>\n",
       "      <td>10</td>\n",
       "      <td>белый</td>\n",
       "      <td>1646</td>\n",
       "    </tr>\n",
       "    <tr>\n",
       "      <th>рукав</th>\n",
       "      <td>10000</td>\n",
       "      <td>2</td>\n",
       "      <td>длинный</td>\n",
       "      <td>5044</td>\n",
       "    </tr>\n",
       "    <tr>\n",
       "      <th>спрос</th>\n",
       "      <td>10000</td>\n",
       "      <td>3</td>\n",
       "      <td>средний</td>\n",
       "      <td>4368</td>\n",
       "    </tr>\n",
       "  </tbody>\n",
       "</table>\n",
       "</div>"
      ],
      "text/plain": [
       "        count unique       top  freq\n",
       "размер  10000      7         L  2231\n",
       "ткань   10000      5  полиэстр  2840\n",
       "цвет    10000     10     белый  1646\n",
       "рукав   10000      2   длинный  5044\n",
       "спрос   10000      3   средний  4368"
      ]
     },
     "execution_count": 6,
     "metadata": {},
     "output_type": "execute_result"
    }
   ],
   "source": [
    "df.describe().T"
   ]
  },
  {
   "cell_type": "markdown",
   "id": "1dc2736d",
   "metadata": {},
   "source": [
    "## Создание класса модели Наивного Байеса"
   ]
  },
  {
   "cell_type": "code",
   "execution_count": 7,
   "id": "55857fc1",
   "metadata": {},
   "outputs": [],
   "source": [
    "class MyCategoricalNB:\n",
    "    classes = None\n",
    "\n",
    "    def fit(self, data, label):\n",
    "        self.classes = label.unique()\n",
    "        data['label'] = label\n",
    "        self.simple_prob = pd.Series(*np.unique(data, return_counts=True)[::-1])\n",
    "        self.simple_prob /= label.shape[0]\n",
    "        self.hard_prob = pd.DataFrame({col: data.groupby(['label', col]).count().iloc[:,0] / data.groupby('label').count().iloc[:,0]\n",
    "                          for col in data.drop('label', axis=1).columns})\n",
    "        return self\n",
    "\n",
    "    def predict_one(self, one):\n",
    "        bayes_denom = np.prod(self.simple_prob[one])\n",
    "\n",
    "        get_brob_character = lambda index, class_: self.hard_prob[index[0]][class_].get(one[index[0]], default=0)\n",
    "        get_prob_class = lambda class_: np.prod(np.apply_along_axis(get_brob_character, 1, one.index.to_numpy()[:, np.newaxis], class_[0])) \\\n",
    "                                        * self.simple_prob[class_[0]] / bayes_denom\n",
    "\n",
    "        return np.apply_along_axis(get_prob_class, 1, self.classes[:, np.newaxis])\n",
    "\n",
    "    def prob_predict(self, data):\n",
    "        data = data.T.apply(self.predict_one).T\n",
    "        data.columns = self.classes\n",
    "        return data\n",
    "\n",
    "    def predict(self, data):\n",
    "        return self.classes[self.prob_predict(data).T.apply(np.argmax).to_numpy()]"
   ]
  },
  {
   "cell_type": "code",
   "execution_count": 8,
   "id": "257f522a",
   "metadata": {},
   "outputs": [],
   "source": [
    "X, y = df.drop('спрос', axis=1), df['спрос']"
   ]
  },
  {
   "cell_type": "markdown",
   "id": "2d6945b4",
   "metadata": {},
   "source": [
    "### Кроссвалидация"
   ]
  },
  {
   "cell_type": "code",
   "execution_count": 9,
   "id": "ce4517f0",
   "metadata": {
    "scrolled": true
   },
   "outputs": [
    {
     "name": "stdout",
     "output_type": "stream",
     "text": [
      "0.824\n",
      "0.789\n",
      "0.82\n",
      "0.805\n",
      "0.818\n",
      "0.834\n",
      "0.817\n",
      "0.807\n",
      "0.834\n",
      "0.792\n",
      "0.799\n",
      "0.806\n",
      "0.817\n",
      "0.816\n",
      "0.802\n",
      "0.813\n",
      "0.829\n",
      "0.806\n",
      "0.799\n",
      "0.825\n",
      "0.795\n",
      "0.821\n",
      "0.819\n",
      "0.825\n",
      "0.81\n",
      "0.817\n",
      "0.819\n",
      "0.823\n",
      "0.81\n",
      "0.813\n",
      "0.828\n",
      "0.806\n",
      "0.804\n",
      "0.824\n",
      "0.81\n",
      "0.822\n",
      "0.808\n",
      "0.809\n",
      "0.792\n",
      "0.832\n",
      "0.808\n",
      "0.823\n",
      "0.816\n",
      "0.826\n",
      "0.819\n",
      "0.801\n",
      "0.812\n",
      "0.802\n",
      "0.819\n",
      "0.831\n"
     ]
    }
   ],
   "source": [
    "rskf = RepeatedStratifiedKFold(n_splits=10, n_repeats=5)\n",
    "for train_index, test_index in rskf.split(X, y):\n",
    "    X_train, X_test, y_train, y_test = X.iloc[train_index], X.iloc[test_index], y.iloc[train_index], y.iloc[test_index]\n",
    "    cnb = MyCategoricalNB()\n",
    "    y_pred = cnb.fit(X_train, y_train).predict(X_test)\n",
    "    print(accuracy_score(y_test, y_pred))"
   ]
  },
  {
   "cell_type": "markdown",
   "id": "9c8c2757",
   "metadata": {},
   "source": [
    "### Обучение модели"
   ]
  },
  {
   "cell_type": "code",
   "execution_count": 59,
   "id": "ad7d3a23",
   "metadata": {},
   "outputs": [],
   "source": [
    "X_train, X_test, y_train, y_test = train_test_split(X, y)"
   ]
  },
  {
   "cell_type": "code",
   "execution_count": 47,
   "id": "914db38c",
   "metadata": {},
   "outputs": [],
   "source": [
    "cnb = MyCategoricalNB()"
   ]
  },
  {
   "cell_type": "code",
   "execution_count": 48,
   "id": "c83f81c1",
   "metadata": {
    "scrolled": true
   },
   "outputs": [
    {
     "data": {
      "text/plain": [
       "<__main__.MyCategoricalNB at 0x1d43c60aaf0>"
      ]
     },
     "execution_count": 48,
     "metadata": {},
     "output_type": "execute_result"
    }
   ],
   "source": [
    "cnb.fit(X_train, y_train)"
   ]
  },
  {
   "cell_type": "code",
   "execution_count": 86,
   "id": "99d05775",
   "metadata": {},
   "outputs": [],
   "source": [
    "y_pred = cnb.predict(X_test)"
   ]
  },
  {
   "cell_type": "markdown",
   "id": "0301068f",
   "metadata": {},
   "source": [
    "### Тесты скорости самописной модели"
   ]
  },
  {
   "cell_type": "code",
   "execution_count": 152,
   "id": "b1f1189e",
   "metadata": {},
   "outputs": [
    {
     "name": "stdout",
     "output_type": "stream",
     "text": [
      "CPU times: total: 4.75 s\n",
      "Wall time: 4.73 s\n"
     ]
    }
   ],
   "source": [
    "%%time\n",
    "y_pred_prob = cnb.prob_predict(X_test)"
   ]
  },
  {
   "cell_type": "code",
   "execution_count": 153,
   "id": "a81dde60",
   "metadata": {},
   "outputs": [
    {
     "name": "stdout",
     "output_type": "stream",
     "text": [
      "CPU times: total: 4.78 s\n",
      "Wall time: 4.81 s\n"
     ]
    }
   ],
   "source": [
    "%%time\n",
    "y_pred = cnb.predict(X_test)"
   ]
  },
  {
   "cell_type": "markdown",
   "id": "1b438dc4",
   "metadata": {},
   "source": [
    "### Проверка точности самописной модели"
   ]
  },
  {
   "cell_type": "code",
   "execution_count": 50,
   "id": "06aff9ff",
   "metadata": {},
   "outputs": [
    {
     "data": {
      "text/plain": [
       "0.8192"
      ]
     },
     "execution_count": 50,
     "metadata": {},
     "output_type": "execute_result"
    }
   ],
   "source": [
    "accuracy_score(y_test, y_pred)"
   ]
  },
  {
   "cell_type": "code",
   "execution_count": 92,
   "id": "7bba4f21",
   "metadata": {},
   "outputs": [
    {
     "data": {
      "text/plain": [
       "<AxesSubplot:>"
      ]
     },
     "execution_count": 92,
     "metadata": {},
     "output_type": "execute_result"
    },
    {
     "data": {
      "image/png": "[encoded data removed]",
      "text/plain": [
       "<Figure size 432x288 with 2 Axes>"
      ]
     },
     "metadata": {
      "needs_background": "light"
     },
     "output_type": "display_data"
    }
   ],
   "source": [
    "from sklearn.metrics import confusion_matrix\n",
    "\n",
    "cm = confusion_matrix(y_test, y_pred)\n",
    "sns.heatmap(cm, annot=True, linewidths=1, fmt='')"
   ]
  },
  {
   "cell_type": "markdown",
   "id": "7858c85c",
   "metadata": {},
   "source": [
    "## Использование встроенного класса Наивного Баяса"
   ]
  },
  {
   "cell_type": "code",
   "execution_count": 63,
   "id": "fe6d51ce",
   "metadata": {},
   "outputs": [],
   "source": [
    "cnb_build_in = CategoricalNB()"
   ]
  },
  {
   "cell_type": "markdown",
   "id": "c0c3d978",
   "metadata": {},
   "source": [
    "### Обучение молдели"
   ]
  },
  {
   "cell_type": "code",
   "execution_count": 64,
   "id": "4370e62a",
   "metadata": {},
   "outputs": [
    {
     "data": {
      "text/plain": [
       "CategoricalNB()"
      ]
     },
     "execution_count": 64,
     "metadata": {},
     "output_type": "execute_result"
    }
   ],
   "source": [
    "cnb_build_in.fit(X_train, y_train)"
   ]
  },
  {
   "cell_type": "code",
   "execution_count": 65,
   "id": "7ad0102b",
   "metadata": {
    "scrolled": true
   },
   "outputs": [],
   "source": [
    "y_pred = cnb_build_in.predict(X_test)"
   ]
  },
  {
   "cell_type": "markdown",
   "id": "953c1081",
   "metadata": {},
   "source": [
    "### Проверка точности модели"
   ]
  },
  {
   "cell_type": "code",
   "execution_count": 66,
   "id": "d0835c47",
   "metadata": {},
   "outputs": [
    {
     "data": {
      "text/plain": [
       "0.8184"
      ]
     },
     "execution_count": 66,
     "metadata": {},
     "output_type": "execute_result"
    }
   ],
   "source": [
    "accuracy_score(y_test, y_pred)"
   ]
  },
  {
   "cell_type": "code",
   "execution_count": 83,
   "id": "0bca67c9",
   "metadata": {},
   "outputs": [
    {
     "data": {
      "text/plain": [
       "<AxesSubplot:>"
      ]
     },
     "execution_count": 83,
     "metadata": {},
     "output_type": "execute_result"
    },
    {
     "data": {
      "image/png": "[encoded data removed]",
      "text/plain": [
       "<Figure size 432x288 with 2 Axes>"
      ]
     },
     "metadata": {
      "needs_background": "light"
     },
     "output_type": "display_data"
    }
   ],
   "source": [
    "cm = confusion_matrix(y_test, y_pred)\n",
    "sns.heatmap(cm, annot=True, linewidths=1, fmt='')"
   ]
  },
  {
   "cell_type": "markdown",
   "id": "1d00b514",
   "metadata": {},
   "source": [
    "## Использование встроенного класса Наивного Байеса на встроенных датасетах"
   ]
  },
  {
   "cell_type": "markdown",
   "id": "59a039b2",
   "metadata": {},
   "source": [
    "### Загрузка данных"
   ]
  },
  {
   "cell_type": "code",
   "execution_count": 93,
   "id": "1706716a",
   "metadata": {},
   "outputs": [],
   "source": [
    "from sklearn.datasets import load_iris, load_wine, load_digits, load_breast_cancer"
   ]
  },
  {
   "cell_type": "code",
   "execution_count": 128,
   "id": "38905df0",
   "metadata": {},
   "outputs": [],
   "source": [
    "X, y = load_iris(return_X_y=True)"
   ]
  },
  {
   "cell_type": "code",
   "execution_count": 129,
   "id": "f813829b",
   "metadata": {},
   "outputs": [],
   "source": [
    "X_train, X_test, y_train, y_test = train_test_split(X, y)"
   ]
  },
  {
   "cell_type": "code",
   "execution_count": 130,
   "id": "ccb0be52",
   "metadata": {},
   "outputs": [],
   "source": [
    "model = GaussianNB()\n",
    "y_pred = model.fit(X_train, y_train).predict(X_test)"
   ]
  },
  {
   "cell_type": "code",
   "execution_count": 131,
   "id": "2b57fb02",
   "metadata": {},
   "outputs": [
    {
     "data": {
      "text/plain": [
       "0.9736842105263158"
      ]
     },
     "execution_count": 131,
     "metadata": {},
     "output_type": "execute_result"
    }
   ],
   "source": [
    "accuracy_score(y_test, y_pred)"
   ]
  },
  {
   "cell_type": "code",
   "execution_count": 132,
   "id": "7e8c046a",
   "metadata": {},
   "outputs": [
    {
     "data": {
      "text/plain": [
       "<AxesSubplot:>"
      ]
     },
     "execution_count": 132,
     "metadata": {},
     "output_type": "execute_result"
    },
    {
     "data": {
      "image/png": "[encoded data removed]",
      "text/plain": [
       "<Figure size 432x288 with 2 Axes>"
      ]
     },
     "metadata": {
      "needs_background": "light"
     },
     "output_type": "display_data"
    }
   ],
   "source": [
    "cm = confusion_matrix(y_test, y_pred)\n",
    "sns.heatmap(cm, annot=True, linewidths=1, fmt='')"
   ]
  },
  {
   "cell_type": "code",
   "execution_count": null,
   "id": "e109cd08",
   "metadata": {},
   "outputs": [],
   "source": []
  }
 ],
 "metadata": {
  "kernelspec": {
   "display_name": "Python 3 (ipykernel)",
   "language": "python",
   "name": "python3"
  },
  "language_info": {
   "codemirror_mode": {
    "name": "ipython",
    "version": 3
   },
   "file_extension": ".py",
   "mimetype": "text/x-python",
   "name": "python",
   "nbconvert_exporter": "python",
   "pygments_lexer": "ipython3",
   "version": "3.9.12"
  }
 },
 "nbformat": 4,
 "nbformat_minor": 5
}
