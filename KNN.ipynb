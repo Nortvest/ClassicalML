{
 "cells": [
  {
   "cell_type": "code",
   "execution_count": 6,
   "id": "bbea0f19",
   "metadata": {},
   "outputs": [],
   "source": [
    "from sklearn.model_selection import train_test_split\n",
    "from sklearn.metrics import roc_curve, auc, accuracy_score\n",
    "from sklearn.datasets import load_iris, load_wine, load_digits, load_breast_cancer\n",
    "import matplotlib.pyplot as plt\n",
    "import pandas as pd\n",
    "import numpy as np"
   ]
  },
  {
   "cell_type": "code",
   "execution_count": 41,
   "id": "9c3e15fb",
   "metadata": {},
   "outputs": [],
   "source": [
    "class Metric:\n",
    "    @staticmethod\n",
    "    def l1(a, b):\n",
    "        return np.sqrt(np.sum(np.absolute(a - b)))\n",
    "\n",
    "    @staticmethod\n",
    "    def l2(a, b):\n",
    "        return np.sqrt(np.sum((a - b) ** 2))\n",
    "\n",
    "    @staticmethod\n",
    "    def l_inf(a, b):\n",
    "        return np.max(np.absolute(a - b))\n",
    "\n",
    "    @staticmethod\n",
    "    def l_p(a, b, p):\n",
    "        return np.power(np.sum(np.absolute((a - b) ** p)), 1/p)"
   ]
  },
  {
   "cell_type": "code",
   "execution_count": 17,
   "id": "dc996745",
   "metadata": {},
   "outputs": [],
   "source": [
    "class KNN:\n",
    "    def __init__(self, k_neighbors=3, metric=Metric.l1):\n",
    "        self.k_neighbors = k_neighbors\n",
    "        self.metric = metric\n",
    "\n",
    "    def fit(self, X, y):\n",
    "        self.X = X\n",
    "        self.y = y\n",
    "\n",
    "    def predict(self, X):\n",
    "        distances = np.apply_along_axis(self.__get_dist, 1, X)\n",
    "        indexes = np.argpartition(distances, self.k_neighbors + 1, axis=1)[:, :self.k_neighbors]\n",
    "        return [self.__get_lables(i) for i in indexes]\n",
    "\n",
    "    def __get_lables(self, inds):\n",
    "        unique, counts = np.unique(self.y[inds], return_counts=True)\n",
    "        return unique[np.argmax(counts)]\n",
    "    \n",
    "    def __get_dist(self, x):\n",
    "        return np.apply_along_axis(self.metric, 1, self.X, x)"
   ]
  },
  {
   "cell_type": "code",
   "execution_count": 148,
   "id": "bd94af5b",
   "metadata": {},
   "outputs": [],
   "source": [
    "load = load_breast_cancer()\n",
    "\n",
    "X = load.data\n",
    "y = load.target\n",
    "target_names = load.target_names"
   ]
  },
  {
   "cell_type": "code",
   "execution_count": 149,
   "id": "1a5543df",
   "metadata": {},
   "outputs": [],
   "source": [
    "X_train, X_test, y_train, y_test = train_test_split(X, y)"
   ]
  },
  {
   "cell_type": "code",
   "execution_count": 153,
   "id": "67155f1c",
   "metadata": {},
   "outputs": [],
   "source": [
    "knn = KNN(7, Metric.l2)\n",
    "knn.fit(X_train, y_train)\n",
    "y_predict = knn.predict(X_test)"
   ]
  },
  {
   "cell_type": "code",
   "execution_count": 154,
   "id": "40adbe1a",
   "metadata": {},
   "outputs": [
    {
     "data": {
      "text/plain": [
       "0.9090909090909091"
      ]
     },
     "execution_count": 154,
     "metadata": {},
     "output_type": "execute_result"
    }
   ],
   "source": [
    "accuracy_score(y_test, y_predict)"
   ]
  },
  {
   "cell_type": "code",
   "execution_count": 127,
   "id": "ffb8846b",
   "metadata": {
    "scrolled": false
   },
   "outputs": [],
   "source": [
    "def show_ROC(y_test, y_predict):\n",
    "    rnd = np.random.rand\n",
    "    for i in range(len(target_names)):\n",
    "        fpr, tpr, treshold = roc_curve([1 if y_t == i else 0 for y_t in y_test], [1 if y_t == i else 0 for y_t in y_predict])\n",
    "        roc_auc = auc(fpr, tpr)\n",
    "        plt.rcParams.update({'figure.figsize': (5, 5)})\n",
    "        plt.plot(fpr, tpr, color=(rnd(), rnd(), rnd()), label=f'{target_names[i]} (area = %0.2f)' % roc_auc)\n",
    "        plt.plot([0, 1.03], [0, 1.03], color='navy', linestyle='--')\n",
    "        plt.xlim([-0.03, 1.03])\n",
    "        plt.ylim([0.03, 1.03])\n",
    "        plt.xlabel('False Positive Rate')\n",
    "        plt.ylabel('True Positive Rate')\n",
    "        plt.legend(loc=\"lower right\")"
   ]
  },
  {
   "cell_type": "code",
   "execution_count": 156,
   "id": "491e025a",
   "metadata": {},
   "outputs": [
    {
     "data": {
      "image/png": "[encoded data removed]",
      "text/plain": [
       "<Figure size 360x360 with 1 Axes>"
      ]
     },
     "metadata": {
      "needs_background": "light"
     },
     "output_type": "display_data"
    }
   ],
   "source": [
    "show_ROC(y_test, y_predict)"
   ]
  },
  {
   "cell_type": "code",
   "execution_count": null,
   "id": "aa02522b",
   "metadata": {},
   "outputs": [],
   "source": []
  },
  {
   "cell_type": "code",
   "execution_count": 155,
   "id": "56d8d5d0",
   "metadata": {},
   "outputs": [
    {
     "data": {
      "text/plain": [
       "0.9090909090909091"
      ]
     },
     "execution_count": 155,
     "metadata": {},
     "output_type": "execute_result"
    }
   ],
   "source": [
    "from sklearn.neighbors import KNeighborsClassifier\n",
    "model = KNeighborsClassifier(4, metric=Metric.l1)\n",
    "model.fit(X_train, y_train)\n",
    "y_predict = model.predict(X_test)\n",
    "accuracy_score(y_test, y_predict)"
   ]
  },
  {
   "cell_type": "code",
   "execution_count": 142,
   "id": "6ab008b2",
   "metadata": {},
   "outputs": [],
   "source": [
    "def find_parms():\n",
    "    build_in_results = {}\n",
    "    my_results = {}\n",
    "    for metric in [Metric.l1, Metric.l2, Metric.l_inf]:\n",
    "        for n in range(3, 8):\n",
    "            build_in_model = KNeighborsClassifier(n_neighbors=n, metric=metric)\n",
    "            build_in_model.fit(X_train, y_train)\n",
    "            y_predict = build_in_model.predict(X_test)\n",
    "            build_in_results[accuracy_score(y_test, y_predict)] = (n, metric)\n",
    "\n",
    "            my_model = KNN(k_neighbors=n, metric=metric)\n",
    "            my_model.fit(X_train, y_train)\n",
    "            y_predict = my_model.predict(X_test)\n",
    "            my_results[accuracy_score(y_test, y_predict)] = (n, metric)\n",
    "    return build_in_results[max(build_in_results.keys())], my_results[max(my_results.keys())]"
   ]
  },
  {
   "cell_type": "code",
   "execution_count": 152,
   "id": "f12e782c",
   "metadata": {},
   "outputs": [
    {
     "data": {
      "text/plain": [
       "((4, <function __main__.Metric.l_inf(a, b)>),\n",
       " (7, <function __main__.Metric.l2(a, b)>))"
      ]
     },
     "execution_count": 152,
     "metadata": {},
     "output_type": "execute_result"
    }
   ],
   "source": [
    "find_parms()"
   ]
  },
  {
   "cell_type": "code",
   "execution_count": 157,
   "id": "47427eaf",
   "metadata": {},
   "outputs": [
    {
     "name": "stdout",
     "output_type": "stream",
     "text": [
      "ROC кривые для встроенного класса KNN\n"
     ]
    },
    {
     "data": {
      "image/png": "[encoded data removed]",
      "text/plain": [
       "<Figure size 360x360 with 1 Axes>"
      ]
     },
     "metadata": {
      "needs_background": "light"
     },
     "output_type": "display_data"
    }
   ],
   "source": [
    "model = KNeighborsClassifier(n_neighbors=3, metric='l1')\n",
    "model.fit(X_train, y_train)\n",
    "y_predict = model.predict(X_test)\n",
    "print('ROC кривые для встроенного класса KNN')\n",
    "show_ROC(y_test, y_predict)"
   ]
  },
  {
   "cell_type": "code",
   "execution_count": null,
   "id": "f6fc0ca0",
   "metadata": {},
   "outputs": [],
   "source": []
  }
 ],
 "metadata": {
  "kernelspec": {
   "display_name": "Python 3 (ipykernel)",
   "language": "python",
   "name": "python3"
  },
  "language_info": {
   "codemirror_mode": {
    "name": "ipython",
    "version": 3
   },
   "file_extension": ".py",
   "mimetype": "text/x-python",
   "name": "python",
   "nbconvert_exporter": "python",
   "pygments_lexer": "ipython3",
   "version": "3.9.12"
  }
 },
 "nbformat": 4,
 "nbformat_minor": 5
}
